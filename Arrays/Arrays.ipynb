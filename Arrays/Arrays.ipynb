{
 "cells": [
  {
   "cell_type": "code",
   "execution_count": 1,
   "id": "c2a00e33",
   "metadata": {},
   "outputs": [],
   "source": [
    "# 1. Let us say your expense for every month are listed below,\n",
    "# 1. January -  2200\n",
    "# 2. February - 2350\n",
    "# 3. March - 2600\n",
    "# 4. April - 2130\n",
    "# 5. May - 2190\n",
    "#\n",
    "# Create a list to store these monthly expenses and using that find out,\n",
    "#\n",
    "# 1. In Feb, how many dollars you spent extra compare to January?\n",
    "# 2. Find out your total expense in first quarter (first three months) of the year.\n",
    "# 3. Find out if you spent exactly 2000 dollars in any month\n",
    "# 4. June month just finished and your expense is 1980 dollar. Add this item to our monthly expense list\n",
    "# 5. You returned an item that you bought in a month of April and\n",
    "# got a refund of 200$. Make a correction to your monthly expense list\n",
    "# based on this"
   ]
  },
  {
   "cell_type": "code",
   "execution_count": 12,
   "id": "c65bf345",
   "metadata": {},
   "outputs": [],
   "source": [
    "expense_list = [2200,2350,2600,2130,2190]"
   ]
  },
  {
   "cell_type": "code",
   "execution_count": 13,
   "id": "1f9b01fb",
   "metadata": {},
   "outputs": [
    {
     "name": "stdout",
     "output_type": "stream",
     "text": [
      "extra amount spent in feb than jan : 150\n"
     ]
    }
   ],
   "source": [
    "#1. In Feb, how many dollars you spent extra compare to January?\n",
    "print('extra amount spent in feb than jan :', expense_list[1]-expense_list[0])"
   ]
  },
  {
   "cell_type": "code",
   "execution_count": 14,
   "id": "e0c50304",
   "metadata": {},
   "outputs": [
    {
     "name": "stdout",
     "output_type": "stream",
     "text": [
      "total expense in first 3 months : 7150\n"
     ]
    }
   ],
   "source": [
    "# 2. Find out your total expense in first quarter (first three months) of the year.\n",
    "print('total expense in first 3 months :', sum(expense_list[:3]))"
   ]
  },
  {
   "cell_type": "code",
   "execution_count": 15,
   "id": "e0771c07",
   "metadata": {},
   "outputs": [
    {
     "name": "stdout",
     "output_type": "stream",
     "text": [
      "Did I spend exactly 2000 $: False\n"
     ]
    }
   ],
   "source": [
    "# 3. Find out if you spent exactly 2000 dollars in any month\n",
    "print('Did I spend exactly 2000 $:', 2000 in expense_list)"
   ]
  },
  {
   "cell_type": "code",
   "execution_count": 16,
   "id": "a53d8f8c",
   "metadata": {},
   "outputs": [
    {
     "name": "stdout",
     "output_type": "stream",
     "text": [
      "[2200, 2350, 2600, 2130, 2190, 1980]\n"
     ]
    }
   ],
   "source": [
    "# 4. June month just finished and your expense is 1980 dollar. Add this item to our monthly expense list\n",
    "expense_list.append(1980)\n",
    "print(expense_list)"
   ]
  },
  {
   "cell_type": "code",
   "execution_count": 17,
   "id": "7beccfbd",
   "metadata": {},
   "outputs": [
    {
     "name": "stdout",
     "output_type": "stream",
     "text": [
      "expense list before refund : [2200, 2350, 2600, 2130, 2190, 1980]\n",
      "updated expense list after refund : [2200, 2350, 2600, 2130, 1990, 1980]\n"
     ]
    }
   ],
   "source": [
    "# 5. You returned an item that you bought in a month of April and\n",
    "# got a refund of 200$. Make a correction to your monthly expense list\n",
    "print('expense list before refund :', expense_list)\n",
    "expense_list[4] = expense_list[4] - 200\n",
    "print('updated expense list after refund :',expense_list)"
   ]
  },
  {
   "cell_type": "markdown",
   "id": "3f4a1f6c",
   "metadata": {},
   "source": [
    "### Interview problem "
   ]
  },
  {
   "cell_type": "code",
   "execution_count": 18,
   "id": "af4f7771",
   "metadata": {},
   "outputs": [],
   "source": [
    "#Chocolate Distribution Problem \n",
    "#Given an array of N integers where each value represents the number of chocolates in a packet.\n",
    "#Each packet can have a variable number of chocolates.\n",
    "#There are m students, the task is to distribute chocolate packets such that: \n",
    "#1. Each student gets one packet.\n",
    "#2. The difference between the number of chocolates in the packet with maximum chocolates and the packet with minimum chocolates given to the students is minimum."
   ]
  },
  {
   "cell_type": "code",
   "execution_count": 19,
   "id": "87ddac5c",
   "metadata": {},
   "outputs": [],
   "source": [
    "arr = [12, 4, 7, 9, 2, 23, 25, 41,\n",
    "           30, 40, 28, 42, 30, 44, 48,\n",
    "           43, 50]"
   ]
  },
  {
   "cell_type": "code",
   "execution_count": 20,
   "id": "5d87e733",
   "metadata": {},
   "outputs": [],
   "source": [
    "m = 7"
   ]
  },
  {
   "cell_type": "code",
   "execution_count": 21,
   "id": "8bafc237",
   "metadata": {},
   "outputs": [],
   "source": [
    "n = len(arr)"
   ]
  },
  {
   "cell_type": "code",
   "execution_count": 26,
   "id": "1c5a1c34",
   "metadata": {},
   "outputs": [],
   "source": [
    "arr.sort()"
   ]
  },
  {
   "cell_type": "code",
   "execution_count": 24,
   "id": "830022b7",
   "metadata": {},
   "outputs": [
    {
     "name": "stdout",
     "output_type": "stream",
     "text": [
      "both are not zero\n"
     ]
    }
   ],
   "source": [
    "if (m == 0 or n == 0):\n",
    "    print('one of them is zero')\n",
    "else:\n",
    "    print('both are not zero')"
   ]
  },
  {
   "cell_type": "code",
   "execution_count": 25,
   "id": "b810661a",
   "metadata": {},
   "outputs": [
    {
     "name": "stdout",
     "output_type": "stream",
     "text": [
      "distribution possible\n"
     ]
    }
   ],
   "source": [
    "if(n<m):\n",
    "    print('n less than m, distribution not possible')\n",
    "else:\n",
    "    print('distribution possible')"
   ]
  },
  {
   "cell_type": "code",
   "execution_count": 29,
   "id": "411b7528",
   "metadata": {},
   "outputs": [
    {
     "name": "stdout",
     "output_type": "stream",
     "text": [
      "48\n"
     ]
    }
   ],
   "source": [
    "#largest difference between number of chocolates\n",
    "min_diff = arr[n-1] - arr[0]\n",
    "print(min_diff)"
   ]
  },
  {
   "cell_type": "code",
   "execution_count": 33,
   "id": "63e18c11",
   "metadata": {},
   "outputs": [
    {
     "name": "stdout",
     "output_type": "stream",
     "text": [
      "10\n"
     ]
    }
   ],
   "source": [
    "for i in range(n-m+1):\n",
    "    min_diff = min(min_diff, arr[i+m-1]-arr[i])\n",
    "print(min_diff)"
   ]
  },
  {
   "cell_type": "code",
   "execution_count": null,
   "id": "6a6d79e8",
   "metadata": {},
   "outputs": [],
   "source": []
  }
 ],
 "metadata": {
  "kernelspec": {
   "display_name": "Python 3 (ipykernel)",
   "language": "python",
   "name": "python3"
  },
  "language_info": {
   "codemirror_mode": {
    "name": "ipython",
    "version": 3
   },
   "file_extension": ".py",
   "mimetype": "text/x-python",
   "name": "python",
   "nbconvert_exporter": "python",
   "pygments_lexer": "ipython3",
   "version": "3.9.7"
  }
 },
 "nbformat": 4,
 "nbformat_minor": 5
}
